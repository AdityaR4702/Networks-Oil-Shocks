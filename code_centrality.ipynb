{
  "nbformat": 4,
  "nbformat_minor": 0,
  "metadata": {
    "colab": {
      "provenance": [],
      "authorship_tag": "ABX9TyOON9s5K8immQbChuQxqPGB",
      "include_colab_link": true
    },
    "kernelspec": {
      "name": "python3",
      "display_name": "Python 3"
    },
    "language_info": {
      "name": "python"
    }
  },
  "cells": [
    {
      "cell_type": "markdown",
      "metadata": {
        "id": "view-in-github",
        "colab_type": "text"
      },
      "source": [
        "<a href=\"https://colab.research.google.com/github/AdityaR4702/Networks-Oil-Shocks/blob/main/code_centrality.ipynb\" target=\"_parent\"><img src=\"https://colab.research.google.com/assets/colab-badge.svg\" alt=\"Open In Colab\"/></a>"
      ]
    },
    {
      "cell_type": "code",
      "execution_count": 2,
      "metadata": {
        "id": "R4XRi05IrnCl"
      },
      "outputs": [],
      "source": [
        "import networkx as nx\n",
        "import pandas as pd\n",
        "import random\n",
        "import matplotlib.pyplot as plt"
      ]
    },
    {
      "cell_type": "code",
      "source": [
        "def load_and_clean_data(file_path):\n",
        "    \"\"\"Loads the dataset and removes non-country-specific rows.\"\"\"\n",
        "    df = pd.read_csv(file_path)\n",
        "    df = df.iloc[:-3,]  # Remove last three rows\n",
        "    return df\n",
        "\n",
        "def extract_country_industry(label):\n",
        "    \"\"\"Extracts country and industry from a given label.\"\"\"\n",
        "    if pd.isna(label) or \"_\" not in label:\n",
        "        return None, None\n",
        "    parts = label.split(\"_\", 1)\n",
        "    return parts[0], parts[1]\n",
        "\n",
        "def create_multilayer_network(df):\n",
        "    \"\"\"Creates a multilayer directed network from the dataset.\"\"\"\n",
        "    G = nx.DiGraph()\n",
        "\n",
        "    # Add nodes\n",
        "    for index, row in df.iterrows():\n",
        "      country, industry = extract_country_industry(row['V1'])\n",
        "      if industry:\n",
        "          node_label = f\"{country}_{industry}\"\n",
        "          G.add_node(node_label)\n",
        "          G.nodes[node_label][\"country\"] = country\n",
        "          G.nodes[node_label][\"industry\"] = industry\n",
        "\n",
        "\n",
        "    # Edge Counters\n",
        "    self_loops = 0\n",
        "    intra_country_edges = 0\n",
        "    inter_country_edges = 0\n",
        "    expected_self_loops = len(G.nodes())\n",
        "\n",
        "    # Add edges\n",
        "    for index, row in df.iterrows():\n",
        "      source_country, source_industry = extract_country_industry(row['V1'])\n",
        "      if not source_industry:\n",
        "          continue  # Skip invalid entries\n",
        "\n",
        "      for target_col in df.columns[1:3646]:  # Exclude 'V1' and 'OUT'\n",
        "        value = row[target_col]\n",
        "        target_country, target_industry = extract_country_industry(target_col)\n",
        "\n",
        "        if value > 0 and target_industry:\n",
        "            source_node = f\"{source_country}_{source_industry}\"\n",
        "            target_node = f\"{target_country}_{target_industry}\"\n",
        "\n",
        "            if source_node == target_node:\n",
        "                # Self-loop for intra-industry trade\n",
        "                G.add_edge(source_node, target_node, weight=value)\n",
        "                self_loops += 1\n",
        "            elif source_country == target_country:\n",
        "                # Intra-country trade (different industries)\n",
        "                G.add_edge(source_node, target_node, weight=value)\n",
        "                intra_country_edges += 1\n",
        "            else:\n",
        "                # Inter-country trade (cross-layer edges)\n",
        "                G.add_edge(source_node, target_node, weight=value)\n",
        "                inter_country_edges += 1\n",
        "\n",
        "    return G, self_loops, intra_country_edges, inter_country_edges\n",
        "\n",
        "def analyze_network(G, self_loops, intra_country_edges, inter_country_edges):\n",
        "    \"\"\"Prints network summary and degree distribution.\"\"\"\n",
        "    print(f\"Nodes: {G.number_of_nodes()}, Edges: {G.number_of_edges()}\")\n",
        "    print(f\"Self-loops: {self_loops}, Intra-country Edges: {intra_country_edges}, Inter-country Edges: {inter_country_edges}\")\n",
        "\n",
        "    #degree_distribution = [G.degree(n) for n in G.nodes()]\n",
        "    #plt.hist(degree_distribution, bins=50)\n",
        "    #plt.xlabel(\"Degree\")\n",
        "    #plt.ylabel(\"Frequency\")\n",
        "    #plt.title(\"Degree Distribution of the Network\")\n",
        "    #plt.show()\n",
        "\n",
        "def visualize_subgraph(G, fixed_sample_nodes):\n",
        "    \"\"\"Visualizes a small subgraph using a fixed set of nodes for consistency across datasets.\"\"\"\n",
        "    subG = G.subgraph(fixed_sample_nodes)\n",
        "\n",
        "    # Get unique country codes from the network\n",
        "    node_countries = nx.get_node_attributes(G, 'country')\n",
        "    unique_countries = sorted(set(node_countries.values()))  # Sorted for consistency\n",
        "\n",
        "\n",
        "    # Assign different colors to different countries\n",
        "    cmap = plt.cm.get_cmap(\"tab10\", len(unique_countries))  # Generate color map\n",
        "    country_colors = {country: cmap(i) for i, country in enumerate(unique_countries)}\n",
        "\n",
        "    # Ensure all nodes have valid country attributes\n",
        "    node_colors = []\n",
        "    for node in subG.nodes():\n",
        "        country = node_countries.get(node, None)\n",
        "        if country in country_colors:\n",
        "            node_colors.append(country_colors[country])\n",
        "        else:\n",
        "            node_colors.append(\"gray\")  # Default color for missing countries\n",
        "\n",
        "    plt.figure(figsize=(8, 6))\n",
        "    nx.draw(subG, with_labels=False, node_size=50, node_color=node_colors, edge_color='gray', alpha=0.7)\n",
        "    plt.title(\"Sample Subgraph Visualization with Country Colors\")\n",
        "    plt.show()\n"
      ],
      "metadata": {
        "id": "7NTnfsDowTRo"
      },
      "execution_count": 3,
      "outputs": []
    },
    {
      "cell_type": "code",
      "source": [
        "# Process multiple datasets\n",
        "years = [1995, 1996, 1997, 1998, 1999, 2000, 2001, 2002, 2003, 2004, 2005, 2006, 2007, 2008, 2009, 2010, 2011, 2012, 2013, 2014, 2015, 2016, 2017, 2018, 2019, 2020]\n",
        "file_paths = {year: f\"/content/{year}.csv\" for year in years}\n",
        "\n",
        "graphs = {}\n",
        "sample_nodes = None  # To ensure same visualization sample across datasets\n",
        "\n",
        "for year, path in file_paths.items():\n",
        "    print(f\"Processing {year} data...\")\n",
        "    df = load_and_clean_data(path)\n",
        "    G, self_loops, intra_country_edges, inter_country_edges = create_multilayer_network(df)\n",
        "    graphs[year] = G\n",
        "    analyze_network(G, self_loops, intra_country_edges, inter_country_edges)\n",
        "\n",
        "    #if sample_nodes is None:\n",
        "        #sample_nodes = random.sample(list(G.nodes()), min(50, len(G.nodes())))  # Store the first sample nodes\n",
        "    #visualize_subgraph(G, sample_nodes)\n",
        "\n",
        "\n",
        "\n"
      ],
      "metadata": {
        "colab": {
          "base_uri": "https://localhost:8080/"
        },
        "id": "cNdxVsTvwVdi",
        "outputId": "81ef8aa5-06fa-4ca3-d01e-29795ab9a5c1"
      },
      "execution_count": null,
      "outputs": [
        {
          "output_type": "stream",
          "name": "stdout",
          "text": [
            "Processing 1995 data...\n",
            "Nodes: 3584, Edges: 5546107\n",
            "Self-loops: 3157, Intra-country Edges: 126275, Inter-country Edges: 5416675\n",
            "Processing 1996 data...\n",
            "Nodes: 3616, Edges: 6402324\n",
            "Self-loops: 3324, Intra-country Edges: 136629, Inter-country Edges: 6262371\n",
            "Processing 1997 data...\n",
            "Nodes: 3645, Edges: 6647314\n",
            "Self-loops: 3346, Intra-country Edges: 137431, Inter-country Edges: 6506537\n",
            "Processing 1998 data...\n",
            "Nodes: 3560, Edges: 4392612\n",
            "Self-loops: 2266, Intra-country Edges: 92434, Inter-country Edges: 4297912\n",
            "Processing 1999 data...\n",
            "Nodes: 3561, Edges: 4533371\n",
            "Self-loops: 2304, Intra-country Edges: 94384, Inter-country Edges: 4436683\n",
            "Processing 2000 data...\n"
          ]
        }
      ]
    },
    {
      "cell_type": "code",
      "source": [
        "def compute_eigenvector_centrality(G):\n",
        "    \"\"\"Computes and returns the eigenvector centrality of the graph.\"\"\"\n",
        "    try:\n",
        "        # Using weight='weight' because your graph is weighted\n",
        "        centrality = nx.eigenvector_centrality(G, weight='weight')\n",
        "        return centrality\n",
        "    except nx.NetworkXException as e:\n",
        "        print(\"Error computing eigenvector centrality:\", e)\n",
        "        return {}\n",
        "\n",
        "\n",
        "# Define your subset\n",
        "oil_countries = ['SAU','RUS','USA','CN1','CAN','BRA','MEX','NOR','NGA','KAZ','IDN','IND','GBR']\n",
        "oil_industries = ['B05_06','C19','H49','C20']\n",
        "target_nodes = [f\"{country}_{industry}\" for country in oil_countries for industry in oil_industries]\n",
        "\n",
        "# Initialize dictionaries to hold results\n",
        "eigenvector_data = {}\n",
        "degree_data = {}\n",
        "betweenness_data = {}\n",
        "pagerank_data = {}\n",
        "\n",
        "for year, G in graphs.items():\n",
        "    print(f\"Computing centralities for {year}...\")\n",
        "\n",
        "    # Full network centrality calculations\n",
        "    eigenvector = compute_eigenvector_centrality(G)\n",
        "    pagerank = nx.pagerank(G, alpha=0.85)\n",
        "    #degree = nx.degree_centrality(G)\n",
        "    #betweenness = nx.betweenness_centrality(G, weight='weight')\n",
        "\n",
        "    # Store results for only oil-related nodes\n",
        "    for node in target_nodes:\n",
        "        if node in G:\n",
        "            eigenvector_data.setdefault(node, {})[year] = eigenvector.get(node, 0)\n",
        "            pagerank_data.setdefault(node, {})[year] = pagerank.get(node, 0)\n",
        "            #degree_data.setdefault(node, {})[year] = degree.get(node, 0)\n",
        "            #betweenness_data.setdefault(node, {})[year] = betweenness.get(node, 0)\n",
        "\n",
        "# Convert dictionaries to DataFrames\n",
        "eigenvector_df = pd.DataFrame.from_dict(eigenvector_data, orient='index').sort_index()\n",
        "pagerank_df = pd.DataFrame.from_dict(pagerank_data, orient='index').sort_index()\n",
        "#degree_df = pd.DataFrame.from_dict(degree_data, orient='index').sort_index()\n",
        "#betweenness_df = pd.DataFrame.from_dict(betweenness_data, orient='index').sort_index()\n",
        "\n",
        "# Save to CSVs\n",
        "eigenvector_df.to_csv(\"eigenvector_centrality.csv\")\n",
        "pagerank_df.to_csv(\"pagerank_centrality.csv\")\n",
        "#degree_df.to_csv(\"degree_centrality.csv\")\n",
        "#betweenness_df.to_csv(\"betweenness_centrality.csv\")\n",
        "\n",
        "print(\"Centrality files created successfully!\")"
      ],
      "metadata": {
        "colab": {
          "base_uri": "https://localhost:8080/",
          "height": 219
        },
        "id": "RV8xWSE78-x3",
        "outputId": "c044e296-504e-4946-c0b8-040bfdccb74f"
      },
      "execution_count": 1,
      "outputs": [
        {
          "output_type": "error",
          "ename": "NameError",
          "evalue": "name 'graphs' is not defined",
          "traceback": [
            "\u001b[0;31m---------------------------------------------------------------------------\u001b[0m",
            "\u001b[0;31mNameError\u001b[0m                                 Traceback (most recent call last)",
            "\u001b[0;32m<ipython-input-1-73310a8c3c42>\u001b[0m in \u001b[0;36m<cell line: 0>\u001b[0;34m()\u001b[0m\n\u001b[1;32m     21\u001b[0m \u001b[0mpagerank_data\u001b[0m \u001b[0;34m=\u001b[0m \u001b[0;34m{\u001b[0m\u001b[0;34m}\u001b[0m\u001b[0;34m\u001b[0m\u001b[0;34m\u001b[0m\u001b[0m\n\u001b[1;32m     22\u001b[0m \u001b[0;34m\u001b[0m\u001b[0m\n\u001b[0;32m---> 23\u001b[0;31m \u001b[0;32mfor\u001b[0m \u001b[0myear\u001b[0m\u001b[0;34m,\u001b[0m \u001b[0mG\u001b[0m \u001b[0;32min\u001b[0m \u001b[0mgraphs\u001b[0m\u001b[0;34m.\u001b[0m\u001b[0mitems\u001b[0m\u001b[0;34m(\u001b[0m\u001b[0;34m)\u001b[0m\u001b[0;34m:\u001b[0m\u001b[0;34m\u001b[0m\u001b[0;34m\u001b[0m\u001b[0m\n\u001b[0m\u001b[1;32m     24\u001b[0m     \u001b[0mprint\u001b[0m\u001b[0;34m(\u001b[0m\u001b[0;34mf\"Computing centralities for {year}...\"\u001b[0m\u001b[0;34m)\u001b[0m\u001b[0;34m\u001b[0m\u001b[0;34m\u001b[0m\u001b[0m\n\u001b[1;32m     25\u001b[0m \u001b[0;34m\u001b[0m\u001b[0m\n",
            "\u001b[0;31mNameError\u001b[0m: name 'graphs' is not defined"
          ]
        }
      ]
    },
    {
      "cell_type": "code",
      "source": [],
      "metadata": {
        "id": "NUF_TeOYxnmf"
      },
      "execution_count": null,
      "outputs": []
    }
  ]
}